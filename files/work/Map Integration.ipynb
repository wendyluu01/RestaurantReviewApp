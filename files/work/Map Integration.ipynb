{
 "cells": [
  {
   "cell_type": "markdown",
   "id": "2b7a364a-9e5b-462a-bf4a-8ac40eed792b",
   "metadata": {},
   "source": [
    "### Interactive Map"
   ]
  },
  {
   "cell_type": "markdown",
   "id": "237e0165-5ce9-46d0-b94b-652b63c3fd66",
   "metadata": {},
   "source": [
    "#### **Important Note:**"
   ]
  },
  {
   "cell_type": "markdown",
   "id": "0567b9b4-e15d-43bf-822b-e860d36aec22",
   "metadata": {},
   "source": [
    "In our project, we used Leadfet.js (part of the JavaScript library) to build our interactive map. We chose Leaflet because it offered more customizability (e.g., dynamic interactions like zooming, panning, and marker placement) and complimented our programming capabilities nicely. \n",
    "\n",
    "Due to the fact that our term deliverable must be built within Jupyter Notebook, we replicated our Leaflet map using Folium. Folium is a Python wrapper for Leaflet. It offers the same capabilities but is designed to be compatible in Jupyter environments. If you are interested in comparing the differences, please clone our GitHub project. "
   ]
  },
  {
   "cell_type": "code",
   "execution_count": 43,
   "id": "6cf634d1-6825-4b3d-ab0f-c7a042c1f4c5",
   "metadata": {},
   "outputs": [],
   "source": [
    "#!pip install ipywidgets ipyleaflet requests\n",
    "#!pip install folium ipywidgets requests"
   ]
  },
  {
   "cell_type": "code",
   "execution_count": 15,
   "id": "811d0a52-73f9-4399-8d4a-917da5c14932",
   "metadata": {},
   "outputs": [
    {
     "data": {
      "application/vnd.jupyter.widget-view+json": {
       "model_id": "24ff33ed2cd7490aabb978eb4dad2214",
       "version_major": 2,
       "version_minor": 0
      },
      "text/plain": [
       "VBox(children=(Dropdown(description='State:', layout=Layout(width='300px'), options=('AB', 'AZ', 'CA', 'CO', '…"
      ]
     },
     "metadata": {},
     "output_type": "display_data"
    }
   ],
   "source": [
    "import requests\n",
    "import folium\n",
    "import pandas as pd\n",
    "from ipywidgets import Dropdown, Button, VBox, HBox, Output\n",
    "from ipyleaflet import Map, Marker, TileLayer, MarkerCluster\n",
    "from IPython.display import display\n",
    "API_BASE = \"http://apan-api:3100/api/v1/business\" \n",
    "\n",
    "GET_STATES_URL = f\"{API_BASE}/getStateList\"\n",
    "GET_CITIES_URL = f\"{API_BASE}/getCityList\"\n",
    "GET_BUSINESSES_URL = f\"{API_BASE}/getBusinessListInCity\"\n",
    "# Fetch states from the API\n",
    "response = requests.get(GET_STATES_URL)\n",
    "state_list = response.json().get('result', [])\n",
    "\n",
    "state_dropdown = Dropdown(\n",
    "    options=state_list,\n",
    "    description='State:',\n",
    "    layout={'width': '300px'}\n",
    ")\n",
    "city_dropdown = Dropdown(\n",
    "    options=[],\n",
    "    description='City:',\n",
    "    layout={'width': '300px'}\n",
    ")\n",
    "\n",
    "def update_city_options(change):\n",
    "    state = change['new']\n",
    "    if state:\n",
    "        url = f\"{GET_CITIES_URL}/{state}\"\n",
    "        resp = requests.get(url)\n",
    "        city_list = resp.json().get('result', [])\n",
    "        city_dropdown.options = city_list\n",
    "\n",
    "state_dropdown.observe(update_city_options, names='value')\n",
    "\n",
    "map_output = Output()\n",
    "\n",
    "def display_restaurants(state, city):\n",
    "    payload = {\"state\": state, \"city\": city}\n",
    "    resp = requests.post(GET_BUSINESSES_URL, json=payload)\n",
    "    businesses = resp.json().get(\"result\", [])\n",
    "    \n",
    "    map_output.clear_output()\n",
    "    \n",
    "    if not businesses:\n",
    "        with map_output:\n",
    "            print(\"No restaurants found for this location.\")\n",
    "        return\n",
    "\n",
    "    # Create map centered on the first restaurant\n",
    "    m = folium.Map(location=[businesses[0]['latitude'], businesses[0]['longitude']], zoom_start=13)\n",
    "\n",
    "    for biz in businesses:\n",
    "        folium.Marker(\n",
    "            location=[biz['latitude'], biz['longitude']],\n",
    "            popup=f\"<b>{biz['name']}</b><br>{biz['address']}\",\n",
    "            tooltip=biz['name']\n",
    "        ).add_to(m)\n",
    "\n",
    "    with map_output:\n",
    "        display(m)\n",
    "\n",
    "show_map_button = Button(description=\"Show Restaurants\", button_style='info')\n",
    "\n",
    "def on_button_click(b):\n",
    "    if state_dropdown.value and city_dropdown.value:\n",
    "        display_restaurants(state_dropdown.value, city_dropdown.value)\n",
    "    else:\n",
    "        with map_output:\n",
    "            clear_output()\n",
    "            print(\"Please select both a state and a city.\")\n",
    "\n",
    "show_map_button.on_click(on_button_click)\n",
    "\n",
    "ui = VBox([state_dropdown, city_dropdown, show_map_button, map_output])\n",
    "display(ui)"
   ]
  },
  {
   "cell_type": "code",
   "execution_count": 8,
   "id": "1c581b74-cdf7-4e67-8185-a37762474a30",
   "metadata": {},
   "outputs": [],
   "source": []
  },
  {
   "cell_type": "code",
   "execution_count": 9,
   "id": "069100f5-e40f-4e20-94aa-679aee377492",
   "metadata": {},
   "outputs": [],
   "source": []
  },
  {
   "cell_type": "code",
   "execution_count": 10,
   "id": "48f89bb5-cadd-4777-9732-10f15d4d552c",
   "metadata": {},
   "outputs": [],
   "source": []
  },
  {
   "cell_type": "code",
   "execution_count": 11,
   "id": "98c6a17b-5f74-4b1c-9e47-6cab845ef509",
   "metadata": {},
   "outputs": [],
   "source": []
  },
  {
   "cell_type": "code",
   "execution_count": 12,
   "id": "2e067fd1-0723-4b6f-bb25-28f9a7f6a2b6",
   "metadata": {},
   "outputs": [],
   "source": []
  },
  {
   "cell_type": "code",
   "execution_count": 13,
   "id": "e8341671-acd5-4b03-84bf-e19d346b7291",
   "metadata": {},
   "outputs": [
    {
     "data": {
      "application/vnd.jupyter.widget-view+json": {
       "model_id": "eade9c1e7ad74d63baa31d05372fd9b1",
       "version_major": 2,
       "version_minor": 0
      },
      "text/plain": [
       "VBox(children=(Dropdown(description='State:', layout=Layout(width='300px'), options=('AB', 'AZ', 'CA', 'CO', '…"
      ]
     },
     "metadata": {},
     "output_type": "display_data"
    }
   ],
   "source": []
  },
  {
   "cell_type": "code",
   "execution_count": null,
   "id": "81303e3b-71e0-4b2c-b414-608baf896136",
   "metadata": {},
   "outputs": [],
   "source": []
  }
 ],
 "metadata": {
  "kernelspec": {
   "display_name": "Python 3 (ipykernel)",
   "language": "python",
   "name": "python3"
  },
  "language_info": {
   "codemirror_mode": {
    "name": "ipython",
    "version": 3
   },
   "file_extension": ".py",
   "mimetype": "text/x-python",
   "name": "python",
   "nbconvert_exporter": "python",
   "pygments_lexer": "ipython3",
   "version": "3.12.10"
  }
 },
 "nbformat": 4,
 "nbformat_minor": 5
}
