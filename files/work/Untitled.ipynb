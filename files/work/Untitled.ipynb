{
 "cells": [
  {
   "cell_type": "code",
   "execution_count": 5,
   "id": "6b0fa642-8ee9-4691-9393-b8e225baa24b",
   "metadata": {},
   "outputs": [
    {
     "name": "stdout",
     "output_type": "stream",
     "text": [
      "Collecting bcrypt\n",
      "  Downloading bcrypt-4.3.0-cp39-abi3-manylinux_2_34_aarch64.whl.metadata (10 kB)\n",
      "Downloading bcrypt-4.3.0-cp39-abi3-manylinux_2_34_aarch64.whl (279 kB)\n",
      "Installing collected packages: bcrypt\n",
      "Successfully installed bcrypt-4.3.0\n",
      "Note: you may need to restart the kernel to use updated packages.\n"
     ]
    }
   ],
   "source": [
    "pip install bcrypt"
   ]
  },
  {
   "cell_type": "code",
   "execution_count": 7,
   "id": "de0e3ab5-9b23-4683-bdfd-fb6af7b5a1d4",
   "metadata": {},
   "outputs": [
    {
     "name": "stdout",
     "output_type": "stream",
     "text": [
      "Collecting shortuuid\n",
      "  Downloading shortuuid-1.0.13-py3-none-any.whl.metadata (5.8 kB)\n",
      "Downloading shortuuid-1.0.13-py3-none-any.whl (10 kB)\n",
      "Installing collected packages: shortuuid\n",
      "Successfully installed shortuuid-1.0.13\n",
      "Note: you may need to restart the kernel to use updated packages.\n"
     ]
    }
   ],
   "source": [
    "pip install shortuuid"
   ]
  },
  {
   "cell_type": "code",
   "execution_count": 9,
   "id": "db99af43-5df6-4045-9287-eefe51d26e87",
   "metadata": {},
   "outputs": [
    {
     "name": "stdout",
     "output_type": "stream",
     "text": [
      "Collecting aiofile\n",
      "  Downloading aiofile-3.9.0-py3-none-any.whl.metadata (14 kB)\n",
      "Collecting caio<0.10.0,>=0.9.0 (from aiofile)\n",
      "  Downloading caio-0.9.21-cp312-cp312-manylinux_2_34_aarch64.whl.metadata (3.6 kB)\n",
      "Downloading aiofile-3.9.0-py3-none-any.whl (19 kB)\n",
      "Downloading caio-0.9.21-cp312-cp312-manylinux_2_34_aarch64.whl (81 kB)\n",
      "Installing collected packages: caio, aiofile\n",
      "Successfully installed aiofile-3.9.0 caio-0.9.21\n",
      "Note: you may need to restart the kernel to use updated packages.\n"
     ]
    }
   ],
   "source": [
    "pip install aiofile"
   ]
  },
  {
   "cell_type": "code",
   "execution_count": 10,
   "id": "f8a49d6e-2304-4b29-850b-321fa02bf2da",
   "metadata": {},
   "outputs": [],
   "source": [
    "import psycopg, os\n",
    "from PIL import Image\n",
    "from IPython.display import display\n",
    "import pandas as pd\n",
    "from tabulate import tabulate\n",
    "from pymongo import MongoClient\n",
    "import bcrypt\n",
    "import shortuuid\n",
    "import json\n",
    "import os\n",
    "import asyncio\n",
    "from aiofile import AIOFile, LineReader\n",
    "from sqlalchemy import create_engine, MetaData, Table\n",
    "from sqlalchemy.orm import sessionmaker"
   ]
  },
  {
   "cell_type": "code",
   "execution_count": 11,
   "id": "ab56c186-3c9d-473d-8bb5-0b128bb85382",
   "metadata": {},
   "outputs": [
    {
     "name": "stdout",
     "output_type": "stream",
     "text": [
      "Connecting to the PostgreSQL database...\n",
      "Database connected successfully.\n",
      "PostgreSQL database version:\n",
      "('PostgreSQL 17.3 (Debian 17.3-3.pgdg120+1) on aarch64-unknown-linux-gnu, compiled by gcc (Debian 12.2.0-14) 12.2.0, 64-bit',)\n"
     ]
    }
   ],
   "source": [
    "\n",
    "print('Connecting to the PostgreSQL database...')\n",
    "try:\n",
    "    conn = psycopg.connect(\n",
    "        host=\"apan-postgres\",\n",
    "        port='5432',\n",
    "        dbname=\"db\",\n",
    "        user=\"admin\",\n",
    "        password=\"PassW0rd\")\n",
    "\n",
    "    # create a cursor\n",
    "    cur = conn.cursor()\n",
    "\n",
    "    print('Database connected successfully.\\nPostgreSQL database version:')\n",
    "    cur.execute('SELECT version()')\n",
    "    db_version = cur.fetchone()\n",
    "    print(db_version)\n",
    "except Exception as e:\n",
    "    print(f\"Error connecting to the database:{e}\")"
   ]
  },
  {
   "cell_type": "code",
   "execution_count": 2,
   "id": "aa4415c3-6313-4bfa-8aed-1b9c0360bcbf",
   "metadata": {},
   "outputs": [],
   "source": [
    "import base64\n",
    "import uuid\n",
    "\n",
    "def uuid_encode(uuid_str):\n",
    "    uuid_bytes = uuid.UUID(uuid_str).bytes\n",
    "    encoded_uuid = base64.urlsafe_b64encode(uuid_bytes).rstrip(b'=').decode('utf-8')\n",
    "    return encoded_uuid\n",
    "\n",
    "def uuid_decode(encoded_uuid):\n",
    "    padded_encoded_uuid = encoded_uuid + '=='  # Add padding back\n",
    "    uuid_bytes = base64.urlsafe_b64decode(padded_encoded_uuid)\n",
    "    decoded_uuid = str(uuid.UUID(bytes=uuid_bytes))\n",
    "    return decoded_uuid"
   ]
  },
  {
   "cell_type": "code",
   "execution_count": 4,
   "id": "67e26e7f-45fc-45f8-b216-a281c71efcc5",
   "metadata": {},
   "outputs": [
    {
     "data": {
      "text/plain": [
       "'a9573c38-3614-e526-6329-7541817748ef'"
      ]
     },
     "execution_count": 4,
     "metadata": {},
     "output_type": "execute_result"
    }
   ],
   "source": [
    "uuid_decode('qVc8ODYU5SZjKXVBgXdI7w')"
   ]
  },
  {
   "cell_type": "code",
   "execution_count": 5,
   "id": "89f11a8b-a6c2-429d-a6a2-27c24624bd4a",
   "metadata": {},
   "outputs": [
    {
     "data": {
      "text/plain": [
       "'qVc8ODYU5SZjKXVBgXdI7w'"
      ]
     },
     "execution_count": 5,
     "metadata": {},
     "output_type": "execute_result"
    }
   ],
   "source": [
    "uuid_encode('a9573c38-3614-e526-6329-7541817748ef')"
   ]
  },
  {
   "cell_type": "code",
   "execution_count": 14,
   "id": "96c178b7-88d0-492b-a60f-28d1d3ca6f62",
   "metadata": {},
   "outputs": [],
   "source": [
    "\n",
    "# file_path = os.path.join(os.path.dirname(__file__), 'yelp_academic_dataset_user_100.json')\n",
    "file_path = os.path.join('yelp_academic_dataset_user_100.json')\n",
    "\n",
    "chunk_size = 20\n",
    "last_line = 0\n",
    "\n",
    "async def read_lines(file_path, start_line, chunk_size):\n",
    "    lines = []\n",
    "    async with AIOFile(file_path, 'r') as afp:\n",
    "        reader = LineReader(afp)\n",
    "        async for line_number, line in enumerate(reader):\n",
    "            if line_number >= start_line and line_number < start_line + chunk_size:\n",
    "                lines.append(json.loads(line))\n",
    "            if line_number >= start_line + chunk_size:\n",
    "                break\n",
    "    return lines\n",
    "\n",
    "async def up(query_interface, sequelize):\n",
    "    transaction = query_interface.begin()\n",
    "    translator = shortuuid.ShortUUID(alphabet=shortuuid.get_alphabet('cookieBase90'))\n",
    "\n",
    "    try:\n",
    "        data = await read_lines(file_path, last_line, chunk_size)\n",
    "\n",
    "        users_chunk = [{\n",
    "            'uuid': translator.uuid(user['user_id']),\n",
    "            'first_name': user['name'],\n",
    "            'last_name': user.get('last_name', ''),\n",
    "            'email': '',\n",
    "            'phone': '',\n",
    "            'password': bcrypt.hashpw(user['password'].encode('utf-8'), bcrypt.gensalt()).decode('utf-8'),\n",
    "            'createdAt': datetime.now(),\n",
    "            'updatedAt': datetime.now()\n",
    "        } for user in data]\n",
    "\n",
    "        users_table = Table('users_user', MetaData(), autoload_with=query_interface)\n",
    "        query_interface.execute(users_table.insert(), users_chunk)\n",
    "        last_line += chunk_size\n",
    "\n",
    "        transaction.commit()\n",
    "    except Exception as e:\n",
    "        transaction.rollback()\n",
    "        with open(os.path.join('lastLine.txt'), 'w') as f:\n",
    "            f.write(str(last_line))\n",
    "        raise e\n",
    "\n",
    "async def down(query_interface, sequelize):\n",
    "    try:\n",
    "        users_table = Table('users_user', MetaData(), autoload_with=query_interface)\n",
    "        query_interface.execute(users_table.delete())\n",
    "    except Exception as e:\n",
    "        raise e\n"
   ]
  },
  {
   "cell_type": "code",
   "execution_count": null,
   "id": "792f1707-30a8-46a0-9aa7-6a893f57c042",
   "metadata": {},
   "outputs": [],
   "source": []
  }
 ],
 "metadata": {
  "kernelspec": {
   "display_name": "Python 3 (ipykernel)",
   "language": "python",
   "name": "python3"
  },
  "language_info": {
   "codemirror_mode": {
    "name": "ipython",
    "version": 3
   },
   "file_extension": ".py",
   "mimetype": "text/x-python",
   "name": "python",
   "nbconvert_exporter": "python",
   "pygments_lexer": "ipython3",
   "version": "3.12.9"
  }
 },
 "nbformat": 4,
 "nbformat_minor": 5
}
