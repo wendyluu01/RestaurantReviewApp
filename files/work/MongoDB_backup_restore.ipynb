{
 "cells": [
  {
   "cell_type": "markdown",
   "id": "edd1b697-16f9-4543-bd6d-83fa86d70b14",
   "metadata": {},
   "source": [
    "# To backup reviewChew\n",
    "\n",
    "Th\n",
    "```\n",
    "docker exec -i apan-mongo mongodump -u admin -p PassW0rd --authenticationDatabase admin --db reviewChew --collection business --out /tmp/backups\n",
    "```"
   ]
  },
  {
   "cell_type": "markdown",
   "id": "1f4f75c9-56c1-424b-b051-6343d200b63c",
   "metadata": {},
   "source": [
    "To backup reviewChew\n",
    "\n",
    "```\n",
    "docker exec -i apan-mongo mongodump -u admin -p PassW0rd --authenticationDatabase admin --db reviewChew --collection business --out /tmp/backups\n",
    "```\n",
    "\n",
    "To restore reviewChew\n",
    "\n",
    "```\n",
    "docker exec -i apan-mongo mongorestore \\\n",
    "  -u admin -p PassW0rd \\\n",
    "  --authenticationDatabase admin \\\n",
    "  --db reviewChew \\\n",
    "  --collection business \\\n",
    "  --drop \\\n",
    "  /tmp/backups/reviewChew/business.bson\n",
    "```"
   ]
  },
  {
   "cell_type": "code",
   "execution_count": null,
   "id": "955ee26c-94d2-4ffb-9745-f08f0abd28df",
   "metadata": {},
   "outputs": [],
   "source": []
  }
 ],
 "metadata": {
  "kernelspec": {
   "display_name": "Python 3 (ipykernel)",
   "language": "python",
   "name": "python3"
  },
  "language_info": {
   "codemirror_mode": {
    "name": "ipython",
    "version": 3
   },
   "file_extension": ".py",
   "mimetype": "text/x-python",
   "name": "python",
   "nbconvert_exporter": "python",
   "pygments_lexer": "ipython3",
   "version": "3.12.10"
  }
 },
 "nbformat": 4,
 "nbformat_minor": 5
}
