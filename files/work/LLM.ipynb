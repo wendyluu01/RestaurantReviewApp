{
 "cells": [
  {
   "cell_type": "code",
   "execution_count": 5,
   "id": "1b2e9d39-ef64-40b7-ae6a-e167a04d7c4b",
   "metadata": {},
   "outputs": [],
   "source": [
    "#pip install langchain_community"
   ]
  },
  {
   "cell_type": "code",
   "execution_count": 4,
   "id": "d8815ae4-1d29-4910-a10a-169c8986aa1c",
   "metadata": {},
   "outputs": [],
   "source": [
    "# pip install llama-index-llms-ollama "
   ]
  },
  {
   "cell_type": "code",
   "execution_count": 14,
   "id": "f328ff8b-ce15-4fc3-9515-55aa11cdf872",
   "metadata": {},
   "outputs": [],
   "source": [
    "# pip install ipywidgets"
   ]
  },
  {
   "cell_type": "code",
   "execution_count": 1,
   "id": "ce6ccf96-97f8-40ef-99a2-93ac41b3c2cb",
   "metadata": {},
   "outputs": [],
   "source": [
    "# Import necessary libraries\n",
    "import os\n",
    "from pathlib import Path\n",
    "import pandas as pd\n",
    "\n",
    "# Import langchain modules\n",
    "from langchain_community.llms import Ollama\n",
    "from langchain.prompts import PromptTemplate\n",
    "from langchain.chains import LLMChain, RetrievalQA\n",
    "from langchain.document_loaders import UnstructuredExcelLoader, CSVLoader\n",
    "from langchain.indexes import VectorstoreIndexCreator\n",
    "from langchain.embeddings import OllamaEmbeddings\n",
    "from langchain_community.embeddings import HuggingFaceEmbeddings\n",
    "from langchain.text_splitter import RecursiveCharacterTextSplitter\n",
    "from langchain.vectorstores import Chroma\n",
    "from langchain.callbacks.streaming_stdout import StreamingStdOutCallbackHandler\n",
    "\n",
    "# Import additional libraries\n",
    "import urllib3\n",
    "import json\n",
    "\n",
    "http = urllib3.PoolManager()\n"
   ]
  },
  {
   "cell_type": "markdown",
   "id": "b87aef4c-3ed5-4e50-bcbd-0e8d8e295d1c",
   "metadata": {},
   "source": [
    "## Run command in the terminal\n",
    "```\n",
    "docker exec -ti apan-ollama ollama pull gemma3:4b\n",
    "```"
   ]
  },
  {
   "cell_type": "code",
   "execution_count": 17,
   "id": "cf656cc8-d306-431b-8d74-4a9690f55a3a",
   "metadata": {},
   "outputs": [
    {
     "name": "stdout",
     "output_type": "stream",
     "text": [
      "New API data: 2\n"
     ]
    }
   ],
   "source": [
    "# Function to fetch records from API and process them\n",
    "def fetch_and_store_records():\n",
    "\n",
    "    file_data = []\n",
    "    if os.path.exists('summary.json'):\n",
    "        with open('summary.json', 'r') as file:\n",
    "            file_data = json.load(file)\n",
    "\n",
    "    # Fetch records from API\n",
    "    startPage = 11\n",
    "    itemsPerPage = 2\n",
    "    # response = http.request.get(f'http://apan-api:3100/api/v1/business/list?page={startPage}&items={itemsPerPage}&sortDir=ASC&sortBy=id')\n",
    "    response = http.request('GET', (f'http://apan-api:3100/api/v1/business/list?page={startPage}&items={itemsPerPage}&sortDir=ASC&sortBy=id'))\n",
    "\n",
    "    if response.status == 200:\n",
    "            \n",
    "        # Open json to save to resonse data\n",
    "        data = json.loads(response.data)\n",
    "        \n",
    "        print(f\"New API data: {len(data['result'])}\")\n",
    "        if len(data['result']) > 0:\n",
    "            llm = Ollama(model=\"gemma3:4b\", base_url=\"http://host.docker.internal:37869\", verbose=True)\n",
    "\n",
    "        for i, business in enumerate(data['result']):\n",
    "\n",
    "            prompt = (\n",
    "                f\"I have a restaurant raw data as json like this {business}. Please generate business summary text like this 'This Roast Coffeehouse and Wine Bar fun place with takeout options. prices are inexpensive, catering available and it has an average 4-star review and etc.. so on'. Use all the available information for the summary text and Do not add any comments. Return final summary text only.\"\n",
    "            )\n",
    "\n",
    "            response = llm.invoke(prompt)\n",
    "\n",
    "            print(f\"response : {response}\")\n",
    "            # Append new response\n",
    "            file_data.append({\"business\": business, \"summary\": response})\n",
    "\n",
    "            # Write updated data back to the file\n",
    "            with open('summary.json', 'w') as file:\n",
    "                json.dump(file_data, file, indent=4)\n",
    "\n",
    "    else:\n",
    "        print(f\"An error occurred: {response.status}\")\n",
    "\n",
    "\n",
    "# Call the function to fetch and store records\n",
    "fetch_and_store_records()"
   ]
  },
  {
   "cell_type": "code",
   "execution_count": null,
   "id": "cbed2905-ba43-42d2-86f0-60f93ac951af",
   "metadata": {},
   "outputs": [],
   "source": []
  }
 ],
 "metadata": {
  "kernelspec": {
   "display_name": "Python 3 (ipykernel)",
   "language": "python",
   "name": "python3"
  },
  "language_info": {
   "codemirror_mode": {
    "name": "ipython",
    "version": 3
   },
   "file_extension": ".py",
   "mimetype": "text/x-python",
   "name": "python",
   "nbconvert_exporter": "python",
   "pygments_lexer": "ipython3",
   "version": "3.12.9"
  }
 },
 "nbformat": 4,
 "nbformat_minor": 5
}
